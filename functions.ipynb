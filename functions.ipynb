{
 "cells": [
  {
   "cell_type": "code",
   "execution_count": 6,
   "id": "7ea1a8e2-3c62-46e2-97a9-36a0f494946e",
   "metadata": {},
   "outputs": [
    {
     "name": "stdout",
     "output_type": "stream",
     "text": [
      "hello\n",
      "himahimahimahimahima\n"
     ]
    }
   ],
   "source": [
    "def hi(): #callee\n",
    "    print(\"hello\") #responses of callee\n",
    "    print(\"hima\" * 5)\n",
    "hi() #call"
   ]
  },
  {
   "cell_type": "code",
   "execution_count": 8,
   "id": "24e882f9-a07c-47cb-9c7c-da6b6fe9e8ca",
   "metadata": {},
   "outputs": [
    {
     "name": "stdin",
     "output_type": "stream",
     "text": [
      "enter the money: 45\n",
      "enter the money: 54\n"
     ]
    },
    {
     "name": "stdout",
     "output_type": "stream",
     "text": [
      "total amount: 99\n"
     ]
    }
   ],
   "source": [
    "#function with parameters with return value\n",
    "def add(a,b):\n",
    "    return a+b\n",
    "std1=int(input(\"enter the money:\"))\n",
    "std2=int(input(\"enter the money:\"))\n",
    "total=add(std1,std2)\n",
    "print(\"total amount:\",total)"
   ]
  },
  {
   "cell_type": "code",
   "execution_count": 14,
   "id": "a3ec3fb5-c5d3-4dc5-ad52-9167ae901efa",
   "metadata": {},
   "outputs": [
    {
     "name": "stdin",
     "output_type": "stream",
     "text": [
      "enter the money: 54\n",
      "enter the money: 45\n"
     ]
    },
    {
     "name": "stdout",
     "output_type": "stream",
     "text": [
      "total amount: 99\n"
     ]
    }
   ],
   "source": [
    "#function with parameters without return value\n",
    "def add(a,b):\n",
    "    print(\"total amount:\",std1+std2)\n",
    "std1=int(input(\"enter the money:\"))\n",
    "std2=int(input(\"enter the money:\"))\n",
    "add(std1,std2)\n"
   ]
  },
  {
   "cell_type": "code",
   "execution_count": 18,
   "id": "0df518a3-bcee-4470-8a40-799fe25d777f",
   "metadata": {},
   "outputs": [
    {
     "name": "stdout",
     "output_type": "stream",
     "text": [
      "value in the function is 3.14159\n"
     ]
    }
   ],
   "source": [
    "#function without args\n",
    "def value():\n",
    "    return 3.14159\n",
    "result=value()\n",
    "print(\"value in the function is\",result)"
   ]
  },
  {
   "cell_type": "code",
   "execution_count": 20,
   "id": "bbec53a1-8080-4c12-865b-8e13ce3eb961",
   "metadata": {},
   "outputs": [
    {
     "name": "stdin",
     "output_type": "stream",
     "text": [
      "enter name: hima\n"
     ]
    },
    {
     "name": "stdout",
     "output_type": "stream",
     "text": [
      "hii hima\n"
     ]
    }
   ],
   "source": [
    "#user defined value\n",
    "def get_name():\n",
    "    name=input(\"enter name:\")\n",
    "    return name\n",
    "username=get_name()\n",
    "print(\"hii\",username)"
   ]
  },
  {
   "cell_type": "code",
   "execution_count": 24,
   "id": "29b79ce6-4616-4906-b06a-b819d5395d20",
   "metadata": {},
   "outputs": [
    {
     "name": "stdout",
     "output_type": "stream",
     "text": [
      "29\n"
     ]
    }
   ],
   "source": [
    "a=29\n",
    "def value(a):\n",
    "    return a\n",
    "print(value(a))"
   ]
  },
  {
   "cell_type": "code",
   "execution_count": 26,
   "id": "99ee94dc-8804-4d43-8bd5-2215dcb30c32",
   "metadata": {},
   "outputs": [
    {
     "name": "stdout",
     "output_type": "stream",
     "text": [
      "73\n"
     ]
    }
   ],
   "source": [
    "a=29\n",
    "def value(a):\n",
    "    return a+44\n",
    "print(value(a))"
   ]
  },
  {
   "cell_type": "code",
   "execution_count": 28,
   "id": "755ea4fe-9474-47ed-b276-f2513cd04d20",
   "metadata": {},
   "outputs": [
    {
     "name": "stdout",
     "output_type": "stream",
     "text": [
      "73\n"
     ]
    }
   ],
   "source": [
    "a=29\n",
    "def value(a):\n",
    "    return a+44\n",
    "op=value(a)\n",
    "print(op)"
   ]
  },
  {
   "cell_type": "code",
   "execution_count": 32,
   "id": "9cc7f6bb-e478-453f-96de-b39e26e07798",
   "metadata": {},
   "outputs": [
    {
     "name": "stdin",
     "output_type": "stream",
     "text": [
      "enter data miss\n"
     ]
    },
    {
     "name": "stdout",
     "output_type": "stream",
     "text": [
      "hello miss\n"
     ]
    }
   ],
   "source": [
    "def hi(name):\n",
    "    print(\"hello\",name)\n",
    "a=input(\"enter data\")\n",
    "hi(a)"
   ]
  },
  {
   "cell_type": "code",
   "execution_count": 44,
   "id": "d3b13233-81ef-4500-8d27-02e21895c33d",
   "metadata": {},
   "outputs": [
    {
     "name": "stdin",
     "output_type": "stream",
     "text": [
      "enter data parent\n"
     ]
    },
    {
     "name": "stdout",
     "output_type": "stream",
     "text": [
      "hello child\n"
     ]
    }
   ],
   "source": [
    "def hi(name='child'):\n",
    "    print(\"hello\",name)\n",
    "a=input(\"enter data\")\n",
    "hi()"
   ]
  },
  {
   "cell_type": "code",
   "execution_count": 36,
   "id": "27419de5-c9d7-4155-ad04-2fee31dae9c1",
   "metadata": {},
   "outputs": [
    {
     "name": "stdin",
     "output_type": "stream",
     "text": [
      "enter data parent\n"
     ]
    },
    {
     "name": "stdout",
     "output_type": "stream",
     "text": [
      "hello child\n",
      "hello parent\n"
     ]
    }
   ],
   "source": [
    "def hi(name='child'):\n",
    "    print(\"hello\",name)\n",
    "a=input(\"enter data\")\n",
    "hi()\n",
    "hi(a)"
   ]
  },
  {
   "cell_type": "code",
   "execution_count": 42,
   "id": "91b32e66-ce1b-401d-91e9-f1e3c679a829",
   "metadata": {},
   "outputs": [
    {
     "name": "stdout",
     "output_type": "stream",
     "text": [
      "name: hima\n",
      "age: 20\n",
      "name: bindu\n",
      "age: 0\n",
      "name: unnown\n",
      "age: 33\n",
      "name: unnown\n",
      "age: 0\n"
     ]
    }
   ],
   "source": [
    "def info(name='unnown',age=0):\n",
    "    print(\"name:\",name)\n",
    "    print(\"age:\",age)\n",
    "info(\"hima\",20)\n",
    "info(\"bindu\")\n",
    "info(age=33)\n",
    "info()"
   ]
  },
  {
   "cell_type": "code",
   "execution_count": 50,
   "id": "898f0052-b97f-4347-acb1-5a5e86a09e14",
   "metadata": {},
   "outputs": [
    {
     "name": "stdin",
     "output_type": "stream",
     "text": [
      "enter a: 5\n",
      "enter b: 7\n"
     ]
    },
    {
     "name": "stdout",
     "output_type": "stream",
     "text": [
      "sum= 12\n",
      "difference= -2\n",
      "product= 35\n",
      "divide= 0.7142857142857143\n"
     ]
    }
   ],
   "source": [
    "#cal\n",
    "def cal(a,b):\n",
    "    return a+b,a-b,a*b,a/b\n",
    "a=int(input(\"enter a:\"))\n",
    "b=int(input(\"enter b:\"))\n",
    "sum, diff, pro, div=cal(a,b)\n",
    "print(\"sum=\",sum)\n",
    "print(\"difference=\",diff)\n",
    "print(\"product=\",pro)\n",
    "print(\"divide=\",div)"
   ]
  },
  {
   "cell_type": "code",
   "execution_count": 58,
   "id": "bb0e7241-0a48-4f7a-90c1-3286b6db4470",
   "metadata": {},
   "outputs": [
    {
     "name": "stdin",
     "output_type": "stream",
     "text": [
      "enter number: 6\n",
      "enter number: 7\n",
      "enter number: 8\n"
     ]
    },
    {
     "name": "stdout",
     "output_type": "stream",
     "text": [
      "maximum: 8\n",
      "minimum: 6\n"
     ]
    }
   ],
   "source": [
    "#write a function that receives 3 values from user and check the maximum and minimum of the 3 values in the same function and return the maximum and minimum values to the main program and print it on display\n",
    "def max_min(num1,num2,num3):\n",
    "    return max(num1,num2,num3),min(num1,num2,num3)\n",
    "num1=int(input(\"enter number:\"))\n",
    "num2=int(input(\"enter number:\"))\n",
    "num3=int(input(\"enter number:\"))\n",
    "maxi,mini=max_min(num1,num2,num3)\n",
    "print(\"maximum:\",maxi)\n",
    "print(\"minimum:\",mini)\n"
   ]
  },
  {
   "cell_type": "code",
   "execution_count": 72,
   "id": "3b88a49f-1129-48d7-a8a9-9822c85f7c69",
   "metadata": {},
   "outputs": [
    {
     "name": "stdin",
     "output_type": "stream",
     "text": [
      "enter numbers 1 2 3 4 5 6\n"
     ]
    },
    {
     "name": "stdout",
     "output_type": "stream",
     "text": [
      "even count: 3\n",
      "odd count: 3\n"
     ]
    }
   ],
   "source": [
    "#count number of even and odd numbers\n",
    "#constraint:give the input as user defined\n",
    "def eo(numbers):\n",
    "    e=0\n",
    "    o=0\n",
    "    for n in numbers:\n",
    "        if n%2==0:\n",
    "            e+=1\n",
    "        else:\n",
    "            o+=1\n",
    "    return e,o\n",
    "num=input(\"enter numbers\")\n",
    "num_list=list(map(int, num.split()))\n",
    "e,o=eo(num_list)\n",
    "print(\"even count:\",e)\n",
    "print(\"odd count:\",o)"
   ]
  },
  {
   "cell_type": "code",
   "execution_count": null,
   "id": "69214dad-ba55-40e0-b909-d370783da84f",
   "metadata": {},
   "outputs": [],
   "source": []
  }
 ],
 "metadata": {
  "kernelspec": {
   "display_name": "Python 3 (ipykernel)",
   "language": "python",
   "name": "python3"
  },
  "language_info": {
   "codemirror_mode": {
    "name": "ipython",
    "version": 3
   },
   "file_extension": ".py",
   "mimetype": "text/x-python",
   "name": "python",
   "nbconvert_exporter": "python",
   "pygments_lexer": "ipython3",
   "version": "3.12.7"
  }
 },
 "nbformat": 4,
 "nbformat_minor": 5
}
